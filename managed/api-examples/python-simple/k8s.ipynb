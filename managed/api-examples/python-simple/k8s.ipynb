{
 "cells": [
  {
   "cell_type": "markdown",
   "id": "559d2cd0-3423-4857-a327-8492add154ce",
   "metadata": {},
   "source": [
    "# K8s Provider and Universe"
   ]
  },
  {
   "cell_type": "markdown",
   "id": "86877d88-9293-45ad-8b5b-eae65bc5eed0",
   "metadata": {},
   "source": [
    "### Setup\n",
    "\n",
    "First, import the required packages.\n",
    "\n",
    "Next, specify some important variables:\n",
    "* `platform_address`: The address of the Yugabyte Platform API\n",
    "* `platform_api_key`: The API key used to authenticate with the Platform API\n",
    "\n",
    "Finally, open a HTTP connection to the Yugabyte Platform API."
   ]
  },
  {
   "cell_type": "code",
   "execution_count": null,
   "id": "4bf637a2-2d8c-4f60-858c-0ef6e7d75153",
   "metadata": {
    "tags": []
   },
   "outputs": [],
   "source": [
    "import os\n",
    "import http.client\n",
    "import json\n",
    "import yaml\n",
    "from pprint import pprint\n",
    "\n",
    "platform_address = os.getenv('API_BASE_URL', \"localhost:9000\")\n",
    "#platform_api_key = os.getenv('YB_API_KEY')\n",
    "platform_api_key = \"3002b2d7-50a3-40fb-9eec-4b1360da73e7\"\n",
    "\n",
    "conn = http.client.HTTPConnection(f\"{platform_address}\")\n",
    "\n",
    "headers = {\n",
    "  'Content-Type': \"application/json\",\n",
    "  'X-AUTH-YW-API-TOKEN': f\"{platform_api_key}\"\n",
    "}\n"
   ]
  },
  {
   "cell_type": "markdown",
   "id": "549f0867-e7d7-4c54-be40-bdaae032e4c8",
   "metadata": {
    "tags": []
   },
   "source": [
    "### Get Session Info\n",
    "\n",
    "Make an API call to session endpoint to determine customer UUID."
   ]
  },
  {
   "cell_type": "code",
   "execution_count": null,
   "id": "04f98bf2-8057-40d4-8dfb-0983a86e96c5",
   "metadata": {},
   "outputs": [],
   "source": [
    "conn.request(\"GET\", \"/api/v1/session_info\", headers=headers)\n",
    "\n",
    "res = conn.getresponse()\n",
    "data = res.read()\n",
    "session_info = json.loads(data)\n",
    "customer_uuid = session_info['customerUUID']\n",
    "\n",
    "print('Customer UUID:\\n%s' % customer_uuid)"
   ]
  },
  {
   "cell_type": "code",
   "execution_count": null,
   "id": "0a060a30-1e3e-4f6f-bf37-eebfd402104e",
   "metadata": {
    "tags": []
   },
   "outputs": [],
   "source": [
    "secret_filename = os.getenv('K8S_PULL_SECRET_FILE', \"/home/sbapat/downloads/yugabyte-k8s-secret.yml\")\n",
    "with open(secret_filename) as f:\n",
    "    secret = yaml.safe_load(f)\n",
    "\n",
    "secret_name = secret['metadata']['name']\n",
    "# print(secret_name)\n",
    "\n",
    "kubeconfig_filename = os.getenv('K8S_KUBECONFIG', \"/tmp/yugabyte-platform-universe-management.conf\")\n",
    "kubeconfig_file = open(kubeconfig_filename, 'r')\n",
    "provider_overrides = \\\n",
    "'''\n",
    "resource:\n",
    "  master:\n",
    "    requests:\n",
    "      cpu: 2\n",
    "      memory: 2Gi\n",
    "    limits:\n",
    "      cpu: 2\n",
    "      memory: 2Gi\n",
    "  tserver:\n",
    "    requests:\n",
    "      cpu: 2\n",
    "      memory: 4Gi\n",
    "    limits:\n",
    "      cpu: 2\n",
    "      memory: 4Gi\n",
    "'''\n",
    "new_provider = {\n",
    "    \"code\": \"kubernetes\",\n",
    "    \"config\": {\n",
    "        'KUBECONFIG_IMAGE_PULL_SECRET_NAME': secret_name,\n",
    "        'KUBECONFIG_PULL_SECRET_NAME': secret_name,\n",
    "        'KUBECONFIG_PULL_SECRET_CONTENT': json.dumps(secret),\n",
    "        \"KUBECONFIG_IMAGE_REGISTRY\":\"quay.io/yugabyte/yugabyte\",\n",
    "    },\n",
    "    \"name\": \"my-gke-provider\",\n",
    "    \"regions\": [{'code': 'us-west1',\n",
    "                 'name': 'us-west1',\n",
    "                 'latitude': 0.0,\n",
    "                 'longitude': 0.0,\n",
    "                 'zones': [{'code': 'us-west1-b',\n",
    "                               # 'config': {'STORAGE_CLASS': 'standard'},\n",
    "                               'name': 'us-west1-b'},\n",
    "                              {'code': 'us-west1-c',\n",
    "                               'name': 'us-west1-c',\n",
    "                               'name': 'my-zone',\n",
    "                               'config': {\n",
    "                                 'name': 'default',\n",
    "                                 'KUBECONFIG_CONTENT': kubeconfig_file.read(),\n",
    "                                 'KUBECONFIG_NAME': kubeconfig_filename,\n",
    "                                 'OVERRIDES' : provider_overrides\n",
    "                               },\n",
    "                              },\n",
    "                              {'code': 'us-west1-a',\n",
    "                               # 'config': {'STORAGE_CLASS': 'standard'},\n",
    "                               'name': 'us-west1-a'}]}],\n",
    "}\n",
    "#pprint(new_provider)"
   ]
  },
  {
   "cell_type": "code",
   "execution_count": null,
   "id": "7c72d8d8-6f90-48e7-9d06-4819f69426b1",
   "metadata": {},
   "outputs": [],
   "source": [
    "url = f\"/api/v1/customers/{customer_uuid}/providers\"\n",
    "conn.request(\"POST\", url, json.dumps(new_provider), headers)\n",
    "res = conn.getresponse()\n",
    "data = res.read()\n",
    "print(data)"
   ]
  },
  {
   "cell_type": "markdown",
   "id": "f86da112-6c87-4f46-aa10-f960695f60da",
   "metadata": {},
   "source": [
    "### Get Provider UUID By Name\n",
    "\n",
    "Make an API call to the provider endpoint to determine provider UUID and regions."
   ]
  },
  {
   "cell_type": "code",
   "execution_count": null,
   "id": "a581e58f-66ba-4740-915d-475a463bb4cc",
   "metadata": {},
   "outputs": [],
   "source": [
    "provider_name = 'my-gke-provider' # my-gcp-rovider \n",
    "url = f\"/api/v1/customers/{customer_uuid}/providers\"\n",
    "conn.request(\"GET\", url, headers=headers)\n",
    "res = conn.getresponse()\n",
    "\n",
    "provider_list = json.load(res)\n",
    "for provider in provider_list:\n",
    "    if provider['name'] == provider_name and provider['active'] == True:\n",
    "        provider_uuid = provider['uuid']\n",
    "        region_list = [region['uuid'] for region in provider['regions']]\n",
    "        break\n",
    "\n",
    "print('Provider UUID:\\n%s' % provider_uuid)\n",
    "print('Regions:\\n[%s]' % ', '.join(region_list))"
   ]
  },
  {
   "cell_type": "markdown",
   "id": "0ecfe2b4-da67-42ca-81d9-26c8e57db923",
   "metadata": {
    "tags": []
   },
   "source": [
    "### Get Instance Types Available\n",
    "\n",
    "Make an API call to see the instance types available for the provider."
   ]
  },
  {
   "cell_type": "code",
   "execution_count": null,
   "id": "ca1e3146-5491-4e23-9ea4-be7dedae8313",
   "metadata": {},
   "outputs": [],
   "source": [
    "url = f\"/api/v1/customers/{customer_uuid}/providers/{provider_uuid}/instance_types\"\n",
    "conn.request(\"GET\", url, headers=headers)\n",
    "res = conn.getresponse()\n",
    "\n",
    "instance_type = None\n",
    "for i in json.load(res):\n",
    "    print(i['instanceTypeCode'])\n",
    "    if i['instanceTypeCode'] in ['large']: # desired aws or gcp type code\n",
    "        print('^^^^^^^ Found !!!!!!!!!!!')\n",
    "        instance_type = i\n",
    "        break\n",
    "\n",
    "pprint(instance_type['instanceTypeDetails'])"
   ]
  },
  {
   "cell_type": "code",
   "execution_count": null,
   "id": "0b39890c-de0d-4dcf-8807-0151557954ba",
   "metadata": {},
   "outputs": [],
   "source": [
    "new_universe = {\n",
    "    'clusters': [\n",
    "        {\n",
    "            'clusterType': 'PRIMARY',\n",
    "            'userIntent': {\n",
    "                'universeName': 'my-k8s-universe', # or my-gcp-universe\n",
    "                'providerType': 'kubernetes',\n",
    "                'provider': provider_uuid,\n",
    "                'regionList': region_list,\n",
    "                'numNodes': 3,\n",
    "                'replicationFactor': 3,\n",
    "                'instanceType': instance_type['instanceTypeCode'],\n",
    "                'deviceInfo': {\n",
    "                    'numVolumes': 1,\n",
    "                    'volumeSize': instance_type['instanceTypeDetails']['volumeDetailsList'][0]['volumeSizeGB'],\n",
    "                    'storageClass': \"standard\"\n",
    "                },\n",
    "                'assignPublicIP': True,\n",
    "                'useTimeSync': True,\n",
    "                'enableYSQL': True,\n",
    "                'enableYEDIS': False,\n",
    "                'enableNodeToNodeEncrypt': True,\n",
    "                'enableClientToNodeEncrypt': True,\n",
    "                'enableVolumeEncryption': False,\n",
    "                'ybSoftwareVersion': \"2.8.0.0-b2\",\n",
    "                'tserverGFlags': {},\n",
    "                'masterGFlags': {},\n",
    "                'universeOverrides': 'resource: \\n master: \\n requests: \\n cpu: 0.5\\n tserver: \\n requests: \\n cpu: 2',\n",
    "                'azOverrides': {\n",
    "                    'us-west-1a': ' \\n resource: \\n master: \\n requests: \\n cpu: 1.5\\n\", \"us-west1-b\": \"\\n resource: \\n tserver: \\n requests: \\n cpu: 0.5'\n",
    "                }\n",
    "            }\n",
    "        },\n",
    "    ],\n",
    "}"
   ]
  },
  {
   "cell_type": "markdown",
   "id": "37e74b0b-4b7b-4d9b-8aad-9e379082febf",
   "metadata": {},
   "source": [
    "### Create Universe\n",
    "\n",
    "Make API call to create new universe."
   ]
  },
  {
   "cell_type": "code",
   "execution_count": null,
   "id": "1615bfbf-a087-4d0a-a28b-3213e1c482d9",
   "metadata": {
    "tags": []
   },
   "outputs": [],
   "source": [
    "url = f\"/api/v1/customers/{customer_uuid}/universes/clusters\"\n",
    "conn.request(\"POST\", url, json.dumps(new_universe), headers)\n",
    "res = conn.getresponse()\n",
    "pprint(json.load(res))"
   ]
  }
 ],
 "metadata": {
  "kernelspec": {
   "display_name": "Python 3 (ipykernel)",
   "language": "python",
   "name": "python3"
  },
  "language_info": {
   "codemirror_mode": {
    "name": "ipython",
    "version": 3
   },
   "file_extension": ".py",
   "mimetype": "text/x-python",
   "name": "python",
   "nbconvert_exporter": "python",
   "pygments_lexer": "ipython3",
   "version": "3.8.5"
  }
 },
 "nbformat": 4,
 "nbformat_minor": 5
}
