{
 "cells": [
  {
   "cell_type": "markdown",
   "id": "69fad1a0f5e69b91",
   "metadata": {
    "collapsed": false
   },
   "source": [
    "# Cross Cluster Replication APIs\n",
    "In this notebook, we will go over the xCluster APIs in YBA with examples and the steps required to make those API calls. We assume that you have already two universes deployed in your YBA and their universe uuids are known.\n",
    "## Get the API Token \n",
    "All xCluster replication YBA APIs are restricted to only authenticated users, so to use them through API, you first need to get the API token using the following code:"
   ]
  },
  {
   "cell_type": "code",
   "execution_count": 1,
   "id": "fa1d5dfbf5b0be4c",
   "metadata": {
    "ExecuteTime": {
     "end_time": "2023-11-28T17:36:57.915990475Z",
     "start_time": "2023-11-28T17:36:57.786197818Z"
    },
    "collapsed": false
   },
   "outputs": [
    {
     "name": "stdout",
     "output_type": "stream",
     "text": [
      "{'apiToken': '3.a9190fe6-1067-409f-95cf-dbd96893c9c9.bfbedb28-41c6-48ea-9905-185ee554d84c',\n",
      " 'apiTokenVersion': 12,\n",
      " 'customerUUID': 'f33e3c9b-75ab-4c30-80ad-cba85646ea39',\n",
      " 'userUUID': 'a9190fe6-1067-409f-95cf-dbd96893c9c9'}\n"
     ]
    }
   ],
   "source": [
    "import requests\n",
    "import os\n",
    "from pprint import pprint\n",
    "\n",
    "yba_url = os.getenv(\"YBA_URL\", \"http://localhost:9000\")\n",
    "yba_user = {\n",
    "    \"email\": os.getenv(\"YBA_USER_EMAIL\", \"admin\"),\n",
    "    \"password\": os.getenv(\"YBA_USER_PASSWORD\", \"admin\"),\n",
    "}\n",
    "\n",
    "route = f\"{yba_url}/api/v1/api_login\"\n",
    "payload = {\n",
    "    \"email\": yba_user[\"email\"],\n",
    "    \"password\": yba_user[\"password\"],\n",
    "}\n",
    "response = requests.post(url=route, json=payload).json()\n",
    "pprint(response)\n",
    "\n",
    "customer_uuid = response[\"customerUUID\"]\n",
    "yba_api_token = response[\"apiToken\"]\n",
    "headers = {\"X-AUTH-YW-API-TOKEN\": yba_api_token}"
   ]
  },
  {
   "cell_type": "markdown",
   "id": "b9aea6087ac4d139",
   "metadata": {
    "collapsed": false
   },
   "source": [
    "Then you can use `customer_uuid` as a url parameter and pass the `yba_api_token` in the request header with name `X-AUTH-YW-API-TOKEN` to show that the user is authenticated."
   ]
  },
  {
   "cell_type": "markdown",
   "id": "6c646777c75500b9",
   "metadata": {
    "collapsed": false
   },
   "source": [
    "## Get Storage Config UUID\n",
    "XCluster uses backup/restore for replicating existing data on the source universe, and a storage config is required to store the backup and then restore from. To get the storage config uuid, use the following code:"
   ]
  },
  {
   "cell_type": "code",
   "execution_count": 2,
   "id": "d52d71a0bfd33a3f",
   "metadata": {
    "ExecuteTime": {
     "end_time": "2023-11-28T17:37:00.613580906Z",
     "start_time": "2023-11-28T17:37:00.569533226Z"
    },
    "collapsed": false
   },
   "outputs": [
    {
     "name": "stdout",
     "output_type": "stream",
     "text": [
      "4c48883a-d310-4704-a656-db8104afc173\n"
     ]
    }
   ],
   "source": [
    "route = f\"{yba_url}/api/v1/customers/{customer_uuid}/configs\"\n",
    "response = requests.get(url=route, headers=headers).json()\n",
    "storage_configs = list(filter(lambda config: config[\"type\"] == \"STORAGE\", response))\n",
    "if len(storage_configs) < 1:\n",
    "    print(\"No storage config found\")\n",
    "    exit(-1)\n",
    "\n",
    "storage_config_uuid = storage_configs[0][\"configUUID\"]\n",
    "print(storage_config_uuid)"
   ]
  },
  {
   "cell_type": "markdown",
   "id": "1357d2090d15e4cb",
   "metadata": {
    "collapsed": false
   },
   "source": [
    "## List Tables on Source Universe\n",
    "XCluster APIs are at the table granularity. You need to pass the list of tables you would like to replicate to the xCluster API request bodies.\n",
    "Please note that although the xCluster APIs are at table granularity, but YBA only supports bootstrapping of YSQL tables with DB granularity, so if you would like to do an xCluster operation that requires bootstrapping of YSQL tables, you need to pass all the table UUIDs in a database.\n",
    "The following is how you can get the list of the tables for a universe:"
   ]
  },
  {
   "cell_type": "code",
   "execution_count": 4,
   "id": "e50340274b0d39c2",
   "metadata": {
    "ExecuteTime": {
     "end_time": "2023-11-28T17:37:07.069864069Z",
     "start_time": "2023-11-28T17:37:06.190375715Z"
    },
    "collapsed": false
   },
   "outputs": [
    {
     "name": "stdout",
     "output_type": "stream",
     "text": [
      "['00004000-0000-3000-8000-000000004022',\n",
      " '00004000-0000-3000-8000-00000000401a',\n",
      " '00004000-0000-3000-8000-000000004012',\n",
      " '00004000-0000-3000-8000-00000000400a',\n",
      " '00004000-0000-3000-8000-000000004002']\n"
     ]
    }
   ],
   "source": [
    "source_universe_uuid = os.getenv(\n",
    "    \"YBA_SOURCE_UNIVERSE_UUID\", \"33f4166a-685a-489d-9137-c9042cfb8616\"\n",
    ")\n",
    "route = (f\"{yba_url}/api/v1/customers/{customer_uuid}/universes/{source_universe_uuid}/tables\"\n",
    "         f\"?includeParentTableInfo={str(False).lower()}&onlySupportedForXCluster={str(True).lower()}\")\n",
    "response = requests.get(url=route, headers=headers).json()\n",
    "all_ysql_tables_uuid_list = [\n",
    "    table[\"tableUUID\"]\n",
    "    for table in list(\n",
    "        filter(lambda table: table[\"tableType\"] == \"PGSQL_TABLE_TYPE\", response)\n",
    "    )\n",
    "]\n",
    "pprint(all_ysql_tables_uuid_list)"
   ]
  },
  {
   "cell_type": "markdown",
   "id": "a87c1cb6ec63aae7",
   "metadata": {
    "collapsed": false
   },
   "source": [
    "## Waiting For XCluster Tasks\n",
    "The xCluster APIs will create a task in the backend and returns a task uuid which you can follow to see the progress and the status of the task. You can use the following function to wait for a task:"
   ]
  },
  {
   "cell_type": "code",
   "execution_count": 5,
   "id": "bac17f7ed7bd129",
   "metadata": {
    "ExecuteTime": {
     "end_time": "2023-11-28T17:37:09.693496769Z",
     "start_time": "2023-11-28T17:37:09.688438850Z"
    },
    "collapsed": false
   },
   "outputs": [],
   "source": [
    "import time\n",
    "\n",
    "def waitForTask(task_uuid):\n",
    "    route = f\"{yba_url}/api/v1/customers/{customer_uuid}/tasks/{task_uuid}\"\n",
    "    while True:\n",
    "        response = requests.get(url=route, headers=headers).json()\n",
    "        status = response[\"status\"]\n",
    "        if status == \"Failure\":\n",
    "            route = f\"{yba_url}/api/customers/{customer_uuid}/tasks/{task_uuid}/failed\"\n",
    "            response = requests.get(url=route, headers=headers)\n",
    "            if response is not None:\n",
    "                response = response.json()\n",
    "                if \"failedSubTasks\" in response:\n",
    "                    errors = [\n",
    "                        subtask[\"errorString\"] for subtask in response[\"failedSubTasks\"]\n",
    "                    ]\n",
    "                    print(f\"Task {task_uuid} failed with the following errors:\")\n",
    "                    print(\"\\n\".join(errors))\n",
    "                else:\n",
    "                    pprint(response)\n",
    "            else:\n",
    "                print(\n",
    "                    f\"Task {task_uuid} failed, but could not get the failure messages\"\n",
    "                )\n",
    "            exit(-1)\n",
    "        elif status == \"Success\":\n",
    "            print(f\"Task {task_uuid} finished successfully\")\n",
    "            break\n",
    "        print(f\"Waiting for task {task_uuid}...\")\n",
    "        time.sleep(20)"
   ]
  },
  {
   "cell_type": "markdown",
   "id": "f1472d3eecf93e15",
   "metadata": {
    "collapsed": false
   },
   "source": [
    "## Creating XCluster Configs\n",
    "Now we have all the required information to successfully create a cross cluster replication from universe `source_universe_uuid` to `target_universe_uuid`. `configType` can be either `Basic` or `Txn`. `Txn` provides transactional guarantees while replicating the data.\n",
    "Please note that unless you have good reasons to skip bootstrapping, the list of tables in `.tables` and `.bootstrapParams.tables` should be the same."
   ]
  },
  {
   "cell_type": "code",
   "execution_count": 6,
   "id": "662776b0e2ba61a5",
   "metadata": {
    "ExecuteTime": {
     "end_time": "2023-11-28T17:37:42.171480630Z",
     "start_time": "2023-11-28T17:37:19.597644890Z"
    },
    "collapsed": false
   },
   "outputs": [
    {
     "name": "stdout",
     "output_type": "stream",
     "text": [
      "{'resourceUUID': '8107542f-d17a-43bb-bd38-3ed0603d921e',\n",
      " 'taskUUID': '5d09470f-dece-4acc-8a61-be5c4d4847f0'}\n",
      "Waiting for task 5d09470f-dece-4acc-8a61-be5c4d4847f0...\n",
      "Task 5d09470f-dece-4acc-8a61-be5c4d4847f0 finished successfully\n"
     ]
    }
   ],
   "source": [
    "target_universe_uuid = os.getenv(\n",
    "    \"YBA_TARGET_UNIVERSE_UUID\", \"21c5edb3-6676-4f15-8a52-94f987280823\"\n",
    ")\n",
    "route = f\"{yba_url}/api/v1/customers/{customer_uuid}/xcluster_configs\"\n",
    "payload = {\n",
    "    \"sourceUniverseUUID\": source_universe_uuid,\n",
    "    \"targetUniverseUUID\": target_universe_uuid,\n",
    "    \"name\": \"my-xcluster-config\",\n",
    "    \"tables\": all_ysql_tables_uuid_list,\n",
    "    \"configType\": \"Basic\",  # It could be Basic or Txn.\n",
    "    \"bootstrapParams\": {  # You can omit this field to forcefully avoid bootstrapping.\n",
    "        \"tables\": all_ysql_tables_uuid_list,\n",
    "        \"allowBootstrap\": True,\n",
    "        \"backupRequestParams\": {\"storageConfigUUID\": storage_config_uuid},\n",
    "    },\n",
    "}\n",
    "response = requests.post(url=route, json=payload, headers=headers).json()\n",
    "pprint(response)\n",
    "if \"taskUUID\" not in response:\n",
    "    print(f\"Failed to create the task: {response}\")\n",
    "    exit(-1)\n",
    "\n",
    "waitForTask(response[\"taskUUID\"])\n",
    "\n",
    "xcluster_config_uuid = response[\"resourceUUID\"]"
   ]
  },
  {
   "cell_type": "markdown",
   "id": "4e53f61b7e55bc93",
   "metadata": {
    "collapsed": false
   },
   "source": [
    "## Getting XCluster Configs without DB Sync\n",
    "You can get the xCluster config using its uuid for faster retrieval. See the following example."
   ]
  },
  {
   "cell_type": "code",
   "execution_count": 7,
   "id": "1490b024bb1272e3",
   "metadata": {
    "ExecuteTime": {
     "end_time": "2023-11-28T17:37:48.985828499Z",
     "start_time": "2023-11-28T17:37:48.418428356Z"
    },
    "collapsed": false
   },
   "outputs": [
    {
     "name": "stdout",
     "output_type": "stream",
     "text": [
      "{'createTime': '2024-11-13T15:38:12Z',\n",
      " 'dbs': [],\n",
      " 'imported': False,\n",
      " 'lag': {'tserver_async_replication_lag_micros': {'data': [],\n",
      "                                                  'directURLs': ['http://localhost:9090/graph?g0.expr=avg%28max+by+%28exported_instance%2C+saved_name%29%28%7Bnode_prefix%3D%22yb-admin-vbansal-1%22%2C+saved_name%3D%7E%22async_replication_sent_lag_micros%7Casync_replication_committed_lag_micros%22%2C+stream_id%3D%7E%22a6fe572813d440896d457eb0e8196594%7Cc3b52695987127b10e47b4f9f772c9c6%7Cdb6d3ccdee5d44b0664f8554a8117248%7Ca34442d4125df5a9b04e54633c14a055%7C1084476a8fcb2287a648c7abe714c9fa%22%7D%29%29+by+%28exported_instance%2C+saved_name%29+%2F+1000&g0.tab=0&g0.range_input=3600s&g0.end_input='],\n",
      "                                                  'layout': {'title': 'Async '\n",
      "                                                                      'Replication '\n",
      "                                                                      'Lag',\n",
      "                                                             'xaxis': {'alias': {},\n",
      "                                                                       'type': 'date'},\n",
      "                                                             'yaxis': {'alias': {'async_replication_committed_lag_micros': 'Committed '\n",
      "                                                                                                                           'Lag',\n",
      "                                                                                 'async_replication_sent_lag_micros': 'Sent '\n",
      "                                                                                                                      'Lag'},\n",
      "                                                                       'ticksuffix': '&nbsp;ms'}},\n",
      "                                                  'metricsLinkUseBrowserFqdn': True,\n",
      "                                                  'queryKey': 'tserver_async_replication_lag_micros'}},\n",
      " 'modifyTime': '2024-11-13T15:38:31Z',\n",
      " 'name': 'my-xcluster-config',\n",
      " 'namespaceDetails': [],\n",
      " 'namespaces': [],\n",
      " 'paused': False,\n",
      " 'pitrConfigs': [],\n",
      " 'replicationGroupName': '33f4166a-685a-489d-9137-c9042cfb8616_my-xcluster-config',\n",
      " 'secondary': False,\n",
      " 'sourceActive': True,\n",
      " 'sourceUniverseState': 'Unconfigured for DR',\n",
      " 'sourceUniverseUUID': '33f4166a-685a-489d-9137-c9042cfb8616',\n",
      " 'status': 'Running',\n",
      " 'tableDetails': [{'bootstrapCreateTime': '2024-11-13T15:38:25Z',\n",
      "                   'indexTable': False,\n",
      "                   'needBootstrap': False,\n",
      "                   'replicationSetupDone': True,\n",
      "                   'replicationStatusErrors': [],\n",
      "                   'status': 'Running',\n",
      "                   'streamId': 'a6fe572813d440896d457eb0e8196594',\n",
      "                   'tableId': '0000400000003000800000000000400a'},\n",
      "                  {'bootstrapCreateTime': '2024-11-13T15:38:25Z',\n",
      "                   'indexTable': False,\n",
      "                   'needBootstrap': False,\n",
      "                   'replicationSetupDone': True,\n",
      "                   'replicationStatusErrors': [],\n",
      "                   'status': 'Running',\n",
      "                   'streamId': 'db6d3ccdee5d44b0664f8554a8117248',\n",
      "                   'tableId': '00004000000030008000000000004012'},\n",
      "                  {'bootstrapCreateTime': '2024-11-13T15:38:25Z',\n",
      "                   'indexTable': False,\n",
      "                   'needBootstrap': False,\n",
      "                   'replicationSetupDone': True,\n",
      "                   'replicationStatusErrors': [],\n",
      "                   'status': 'Running',\n",
      "                   'streamId': 'c3b52695987127b10e47b4f9f772c9c6',\n",
      "                   'tableId': '00004000000030008000000000004002'},\n",
      "                  {'bootstrapCreateTime': '2024-11-13T15:38:25Z',\n",
      "                   'indexTable': False,\n",
      "                   'needBootstrap': False,\n",
      "                   'replicationSetupDone': True,\n",
      "                   'replicationStatusErrors': [],\n",
      "                   'status': 'Running',\n",
      "                   'streamId': 'a34442d4125df5a9b04e54633c14a055',\n",
      "                   'tableId': '00004000000030008000000000004022'},\n",
      "                  {'bootstrapCreateTime': '2024-11-13T15:38:25Z',\n",
      "                   'indexTable': False,\n",
      "                   'needBootstrap': False,\n",
      "                   'replicationSetupDone': True,\n",
      "                   'replicationStatusErrors': [],\n",
      "                   'status': 'Running',\n",
      "                   'streamId': '1084476a8fcb2287a648c7abe714c9fa',\n",
      "                   'tableId': '0000400000003000800000000000401a'}],\n",
      " 'tableType': 'YSQL',\n",
      " 'tables': ['0000400000003000800000000000400a',\n",
      "            '00004000000030008000000000004012',\n",
      "            '00004000000030008000000000004002',\n",
      "            '00004000000030008000000000004022',\n",
      "            '0000400000003000800000000000401a'],\n",
      " 'targetActive': True,\n",
      " 'targetUniverseState': 'Unconfigured for DR',\n",
      " 'targetUniverseUUID': '21c5edb3-6676-4f15-8a52-94f987280823',\n",
      " 'type': 'Basic',\n",
      " 'usedForDr': False,\n",
      " 'uuid': '8107542f-d17a-43bb-bd38-3ed0603d921e'}\n"
     ]
    }
   ],
   "source": [
    "# Get the xCluster config without syncing with the DB for faster response time\n",
    "route = f\"{yba_url}/api/v1/customers/{customer_uuid}/xcluster_configs/{xcluster_config_uuid}?syncWithDB={str(False).lower()}\"\n",
    "response = requests.get(url=route, headers=headers).json()\n",
    "pprint(response)"
   ]
  },
  {
   "cell_type": "markdown",
   "id": "f65e2d86",
   "metadata": {},
   "source": [
    "## Getting XCluster Configs with DB Sync\n",
    "You can get the xCluster config Sync with source and target universe. See the following example."
   ]
  },
  {
   "cell_type": "code",
   "execution_count": 8,
   "id": "b7ebaf77",
   "metadata": {},
   "outputs": [
    {
     "name": "stdout",
     "output_type": "stream",
     "text": [
      "{'createTime': '2024-11-13T15:38:12Z',\n",
      " 'dbs': [],\n",
      " 'imported': False,\n",
      " 'lag': {'tserver_async_replication_lag_micros': {'data': [],\n",
      "                                                  'directURLs': ['http://localhost:9090/graph?g0.expr=avg%28max+by+%28exported_instance%2C+saved_name%29%28%7Bnode_prefix%3D%22yb-admin-vbansal-1%22%2C+saved_name%3D%7E%22async_replication_sent_lag_micros%7Casync_replication_committed_lag_micros%22%2C+stream_id%3D%7E%22a6fe572813d440896d457eb0e8196594%7Cc3b52695987127b10e47b4f9f772c9c6%7Cdb6d3ccdee5d44b0664f8554a8117248%7Ca34442d4125df5a9b04e54633c14a055%7C1084476a8fcb2287a648c7abe714c9fa%22%7D%29%29+by+%28exported_instance%2C+saved_name%29+%2F+1000&g0.tab=0&g0.range_input=3600s&g0.end_input='],\n",
      "                                                  'layout': {'title': 'Async '\n",
      "                                                                      'Replication '\n",
      "                                                                      'Lag',\n",
      "                                                             'xaxis': {'alias': {},\n",
      "                                                                       'type': 'date'},\n",
      "                                                             'yaxis': {'alias': {'async_replication_committed_lag_micros': 'Committed '\n",
      "                                                                                                                           'Lag',\n",
      "                                                                                 'async_replication_sent_lag_micros': 'Sent '\n",
      "                                                                                                                      'Lag'},\n",
      "                                                                       'ticksuffix': '&nbsp;ms'}},\n",
      "                                                  'metricsLinkUseBrowserFqdn': True,\n",
      "                                                  'queryKey': 'tserver_async_replication_lag_micros'}},\n",
      " 'modifyTime': '2024-11-13T15:38:31Z',\n",
      " 'name': 'my-xcluster-config',\n",
      " 'namespaceDetails': [],\n",
      " 'namespaces': [],\n",
      " 'paused': False,\n",
      " 'pitrConfigs': [],\n",
      " 'replicationGroupName': '33f4166a-685a-489d-9137-c9042cfb8616_my-xcluster-config',\n",
      " 'secondary': False,\n",
      " 'sourceActive': True,\n",
      " 'sourceUniverseState': 'Unconfigured for DR',\n",
      " 'sourceUniverseUUID': '33f4166a-685a-489d-9137-c9042cfb8616',\n",
      " 'status': 'Running',\n",
      " 'tableDetails': [{'bootstrapCreateTime': '2024-11-13T15:38:25Z',\n",
      "                   'indexTable': False,\n",
      "                   'needBootstrap': False,\n",
      "                   'replicationSetupDone': True,\n",
      "                   'replicationStatusErrors': [],\n",
      "                   'sourceTableInfo': {'colocated': False,\n",
      "                                       'isIndexTable': False,\n",
      "                                       'keySpace': 'abc',\n",
      "                                       'pgSchemaName': 'public',\n",
      "                                       'relationType': 'USER_TABLE_RELATION',\n",
      "                                       'sizeBytes': 0.0,\n",
      "                                       'tableID': '0000400000003000800000000000400a',\n",
      "                                       'tableName': 'table_2',\n",
      "                                       'tableType': 'PGSQL_TABLE_TYPE',\n",
      "                                       'tableUUID': '00004000-0000-3000-8000-00000000400a',\n",
      "                                       'walSizeBytes': 0.0},\n",
      "                   'status': 'Running',\n",
      "                   'streamId': 'a6fe572813d440896d457eb0e8196594',\n",
      "                   'tableId': '0000400000003000800000000000400a',\n",
      "                   'targetTableInfo': {'colocated': False,\n",
      "                                       'isIndexTable': False,\n",
      "                                       'keySpace': 'abc',\n",
      "                                       'pgSchemaName': 'public',\n",
      "                                       'relationType': 'USER_TABLE_RELATION',\n",
      "                                       'sizeBytes': 0.0,\n",
      "                                       'tableID': '0000400000003000800000000000400a',\n",
      "                                       'tableName': 'table_2',\n",
      "                                       'tableType': 'PGSQL_TABLE_TYPE',\n",
      "                                       'tableUUID': '00004000-0000-3000-8000-00000000400a',\n",
      "                                       'walSizeBytes': 0.0}},\n",
      "                  {'bootstrapCreateTime': '2024-11-13T15:38:25Z',\n",
      "                   'indexTable': False,\n",
      "                   'needBootstrap': False,\n",
      "                   'replicationSetupDone': True,\n",
      "                   'replicationStatusErrors': [],\n",
      "                   'sourceTableInfo': {'colocated': False,\n",
      "                                       'isIndexTable': False,\n",
      "                                       'keySpace': 'abc',\n",
      "                                       'pgSchemaName': 'public',\n",
      "                                       'relationType': 'USER_TABLE_RELATION',\n",
      "                                       'sizeBytes': 0.0,\n",
      "                                       'tableID': '00004000000030008000000000004012',\n",
      "                                       'tableName': 'table_3',\n",
      "                                       'tableType': 'PGSQL_TABLE_TYPE',\n",
      "                                       'tableUUID': '00004000-0000-3000-8000-000000004012',\n",
      "                                       'walSizeBytes': 0.0},\n",
      "                   'status': 'Running',\n",
      "                   'streamId': 'db6d3ccdee5d44b0664f8554a8117248',\n",
      "                   'tableId': '00004000000030008000000000004012',\n",
      "                   'targetTableInfo': {'colocated': False,\n",
      "                                       'isIndexTable': False,\n",
      "                                       'keySpace': 'abc',\n",
      "                                       'pgSchemaName': 'public',\n",
      "                                       'relationType': 'USER_TABLE_RELATION',\n",
      "                                       'sizeBytes': 0.0,\n",
      "                                       'tableID': '00004000000030008000000000004012',\n",
      "                                       'tableName': 'table_3',\n",
      "                                       'tableType': 'PGSQL_TABLE_TYPE',\n",
      "                                       'tableUUID': '00004000-0000-3000-8000-000000004012',\n",
      "                                       'walSizeBytes': 0.0}},\n",
      "                  {'bootstrapCreateTime': '2024-11-13T15:38:25Z',\n",
      "                   'indexTable': False,\n",
      "                   'needBootstrap': False,\n",
      "                   'replicationSetupDone': True,\n",
      "                   'replicationStatusErrors': [],\n",
      "                   'sourceTableInfo': {'colocated': False,\n",
      "                                       'isIndexTable': False,\n",
      "                                       'keySpace': 'abc',\n",
      "                                       'pgSchemaName': 'public',\n",
      "                                       'relationType': 'USER_TABLE_RELATION',\n",
      "                                       'sizeBytes': 0.0,\n",
      "                                       'tableID': '00004000000030008000000000004002',\n",
      "                                       'tableName': 'table_1',\n",
      "                                       'tableType': 'PGSQL_TABLE_TYPE',\n",
      "                                       'tableUUID': '00004000-0000-3000-8000-000000004002',\n",
      "                                       'walSizeBytes': 0.0},\n",
      "                   'status': 'Running',\n",
      "                   'streamId': 'c3b52695987127b10e47b4f9f772c9c6',\n",
      "                   'tableId': '00004000000030008000000000004002',\n",
      "                   'targetTableInfo': {'colocated': False,\n",
      "                                       'isIndexTable': False,\n",
      "                                       'keySpace': 'abc',\n",
      "                                       'pgSchemaName': 'public',\n",
      "                                       'relationType': 'USER_TABLE_RELATION',\n",
      "                                       'sizeBytes': 0.0,\n",
      "                                       'tableID': '00004000000030008000000000004002',\n",
      "                                       'tableName': 'table_1',\n",
      "                                       'tableType': 'PGSQL_TABLE_TYPE',\n",
      "                                       'tableUUID': '00004000-0000-3000-8000-000000004002',\n",
      "                                       'walSizeBytes': 0.0}},\n",
      "                  {'bootstrapCreateTime': '2024-11-13T15:38:25Z',\n",
      "                   'indexTable': False,\n",
      "                   'needBootstrap': False,\n",
      "                   'replicationSetupDone': True,\n",
      "                   'replicationStatusErrors': [],\n",
      "                   'sourceTableInfo': {'colocated': False,\n",
      "                                       'isIndexTable': False,\n",
      "                                       'keySpace': 'abc',\n",
      "                                       'pgSchemaName': 'public',\n",
      "                                       'relationType': 'USER_TABLE_RELATION',\n",
      "                                       'sizeBytes': 0.0,\n",
      "                                       'tableID': '00004000000030008000000000004022',\n",
      "                                       'tableName': 'table_5',\n",
      "                                       'tableType': 'PGSQL_TABLE_TYPE',\n",
      "                                       'tableUUID': '00004000-0000-3000-8000-000000004022',\n",
      "                                       'walSizeBytes': 0.0},\n",
      "                   'status': 'Running',\n",
      "                   'streamId': 'a34442d4125df5a9b04e54633c14a055',\n",
      "                   'tableId': '00004000000030008000000000004022',\n",
      "                   'targetTableInfo': {'colocated': False,\n",
      "                                       'isIndexTable': False,\n",
      "                                       'keySpace': 'abc',\n",
      "                                       'pgSchemaName': 'public',\n",
      "                                       'relationType': 'USER_TABLE_RELATION',\n",
      "                                       'sizeBytes': 0.0,\n",
      "                                       'tableID': '00004000000030008000000000004022',\n",
      "                                       'tableName': 'table_5',\n",
      "                                       'tableType': 'PGSQL_TABLE_TYPE',\n",
      "                                       'tableUUID': '00004000-0000-3000-8000-000000004022',\n",
      "                                       'walSizeBytes': 0.0}},\n",
      "                  {'bootstrapCreateTime': '2024-11-13T15:38:25Z',\n",
      "                   'indexTable': False,\n",
      "                   'needBootstrap': False,\n",
      "                   'replicationSetupDone': True,\n",
      "                   'replicationStatusErrors': [],\n",
      "                   'sourceTableInfo': {'colocated': False,\n",
      "                                       'isIndexTable': False,\n",
      "                                       'keySpace': 'abc',\n",
      "                                       'pgSchemaName': 'public',\n",
      "                                       'relationType': 'USER_TABLE_RELATION',\n",
      "                                       'sizeBytes': 0.0,\n",
      "                                       'tableID': '0000400000003000800000000000401a',\n",
      "                                       'tableName': 'table_4',\n",
      "                                       'tableType': 'PGSQL_TABLE_TYPE',\n",
      "                                       'tableUUID': '00004000-0000-3000-8000-00000000401a',\n",
      "                                       'walSizeBytes': 0.0},\n",
      "                   'status': 'Running',\n",
      "                   'streamId': '1084476a8fcb2287a648c7abe714c9fa',\n",
      "                   'tableId': '0000400000003000800000000000401a',\n",
      "                   'targetTableInfo': {'colocated': False,\n",
      "                                       'isIndexTable': False,\n",
      "                                       'keySpace': 'abc',\n",
      "                                       'pgSchemaName': 'public',\n",
      "                                       'relationType': 'USER_TABLE_RELATION',\n",
      "                                       'sizeBytes': 0.0,\n",
      "                                       'tableID': '0000400000003000800000000000401a',\n",
      "                                       'tableName': 'table_4',\n",
      "                                       'tableType': 'PGSQL_TABLE_TYPE',\n",
      "                                       'tableUUID': '00004000-0000-3000-8000-00000000401a',\n",
      "                                       'walSizeBytes': 0.0}}],\n",
      " 'tableType': 'YSQL',\n",
      " 'tables': ['0000400000003000800000000000400a',\n",
      "            '00004000000030008000000000004012',\n",
      "            '00004000000030008000000000004002',\n",
      "            '00004000000030008000000000004022',\n",
      "            '0000400000003000800000000000401a'],\n",
      " 'targetActive': True,\n",
      " 'targetUniverseState': 'Unconfigured for DR',\n",
      " 'targetUniverseUUID': '21c5edb3-6676-4f15-8a52-94f987280823',\n",
      " 'type': 'Basic',\n",
      " 'usedForDr': False,\n",
      " 'uuid': '8107542f-d17a-43bb-bd38-3ed0603d921e'}\n"
     ]
    }
   ],
   "source": [
    "# Get the xCluster config with syncing with the DB for the latest data\n",
    "route = f\"{yba_url}/api/v1/customers/{customer_uuid}/xcluster_configs/{xcluster_config_uuid}?syncWithDB={str(True).lower()}\"\n",
    "response = requests.get(url=route, headers=headers).json()\n",
    "pprint(response)"
   ]
  },
  {
   "cell_type": "markdown",
   "id": "bcd301d7ae19175d",
   "metadata": {
    "collapsed": false
   },
   "source": [
    "## Modifying Tables in XCluster Configs\n",
    "You can add/remove tables to/from an existing xCluster config. This is useful when you would like to add new tables to your database after the replication is set up, or you would like to drop a table from your database.\n",
    "Please note that to drop a table from your database, *first you need to remove that table from the xCluster config.*\n",
    "To modify the tables in replication in an xCluster config, you need to pass the list of the tables that you would like to be in replication. In other words, you remove the table UUIDs that you do not want to be replicated, and add the new table uuids you want to replication. See the following example. "
   ]
  },
  {
   "cell_type": "code",
   "execution_count": 9,
   "id": "40a4660edd44ff9a",
   "metadata": {
    "ExecuteTime": {
     "end_time": "2023-11-28T17:39:08.705537555Z",
     "start_time": "2023-11-28T17:38:25.369798607Z"
    },
    "collapsed": false
   },
   "outputs": [
    {
     "name": "stdout",
     "output_type": "stream",
     "text": [
      "{'resourceUUID': '8107542f-d17a-43bb-bd38-3ed0603d921e',\n",
      " 'taskUUID': 'a430bed3-c406-45f0-a157-ba76bcf33d07'}\n",
      "Waiting for task a430bed3-c406-45f0-a157-ba76bcf33d07...\n",
      "Task a430bed3-c406-45f0-a157-ba76bcf33d07 finished successfully\n",
      "{'resourceUUID': '8107542f-d17a-43bb-bd38-3ed0603d921e',\n",
      " 'taskUUID': '017a5dc5-7c71-4a44-9eb2-0583164df331'}\n",
      "Waiting for task 017a5dc5-7c71-4a44-9eb2-0583164df331...\n",
      "Task 017a5dc5-7c71-4a44-9eb2-0583164df331 finished successfully\n"
     ]
    }
   ],
   "source": [
    "# Remove tables.\n",
    "route = f\"{yba_url}/api/v1/customers/{customer_uuid}/xcluster_configs/{xcluster_config_uuid}\"\n",
    "payload = {\n",
    "    \"tables\": all_ysql_tables_uuid_list[:-2],\n",
    "}\n",
    "response = requests.put(url=route, json=payload, headers=headers).json()\n",
    "pprint(response)\n",
    "if \"taskUUID\" not in response:\n",
    "    print(f\"Failed to create the task: {response}\")\n",
    "    exit(-1)\n",
    "\n",
    "waitForTask(response[\"taskUUID\"])\n",
    "\n",
    "# Add tables.\n",
    "route = f\"{yba_url}/api/v1/customers/{customer_uuid}/xcluster_configs/{xcluster_config_uuid}\"\n",
    "payload = {\n",
    "    \"tables\": all_ysql_tables_uuid_list,\n",
    "    \"bootstrapParams\": {  # You can omit this field to forcefully avoid bootstrapping.\n",
    "        \"tables\": all_ysql_tables_uuid_list,\n",
    "        \"allowBootstrap\": True,\n",
    "        \"backupRequestParams\": {\"storageConfigUUID\": storage_config_uuid},\n",
    "    },\n",
    "}\n",
    "response = requests.put(url=route, json=payload, headers=headers).json()\n",
    "pprint(response)\n",
    "if \"taskUUID\" not in response:\n",
    "    print(f\"Failed to create the task: {response}\")\n",
    "    exit(-1)\n",
    "\n",
    "waitForTask(response[\"taskUUID\"])"
   ]
  },
  {
   "cell_type": "markdown",
   "id": "251a35f0396f90a8",
   "metadata": {
    "collapsed": false
   },
   "source": [
    "## Reconciling XCluster Configs with YBDB State\n",
    "Sometimes, it is required to make changes to the replication group using yb-admin. In these cases, the corresponding xCluster config in YBA will not be automatically updated to learn about the yb-admin changes, and a manual synchronization call is required as follows:"
   ]
  },
  {
   "cell_type": "code",
   "execution_count": 10,
   "id": "7c08650aa05415b",
   "metadata": {
    "ExecuteTime": {
     "end_time": "2023-11-28T17:39:42.862227011Z",
     "start_time": "2023-11-28T17:39:22.653449280Z"
    },
    "collapsed": false
   },
   "outputs": [
    {
     "name": "stdout",
     "output_type": "stream",
     "text": [
      "Waiting for task a7bcc007-0c00-4cdd-9e96-cd243641d78c...\n",
      "Task a7bcc007-0c00-4cdd-9e96-cd243641d78c finished successfully\n"
     ]
    }
   ],
   "source": [
    "route = (\n",
    "    f\"{yba_url}/api/v1/customers/{customer_uuid}/xcluster_configs/{xcluster_config_uuid}/sync\"\n",
    ")\n",
    "response = requests.post(url=route, headers=headers).json()\n",
    "if \"taskUUID\" not in response:\n",
    "    print(f\"Failed to create the task: {response}\")\n",
    "    exit(-1)\n",
    "\n",
    "waitForTask(response[\"taskUUID\"])"
   ]
  },
  {
   "cell_type": "markdown",
   "id": "9f72bc2ff3e70869",
   "metadata": {
    "collapsed": false
   },
   "source": [
    "## Restarting XCluster Configs\n",
    "The replication between two universes can break for various reasons including temporary network partitions. In these cases, after the issue is resolved, you can restart replication. You may also include index tables to the replication by restarting the replication for their main tables."
   ]
  },
  {
   "cell_type": "code",
   "execution_count": 11,
   "id": "7271fc6aaf86cca4",
   "metadata": {
    "ExecuteTime": {
     "end_time": "2023-11-28T17:40:10.093098102Z",
     "start_time": "2023-11-28T17:39:47.517772172Z"
    },
    "collapsed": false
   },
   "outputs": [
    {
     "name": "stdout",
     "output_type": "stream",
     "text": [
      "{'resourceUUID': '8107542f-d17a-43bb-bd38-3ed0603d921e',\n",
      " 'taskUUID': '6ebb77ce-b641-401c-bfec-cb5303bd4d0c'}\n",
      "Waiting for task 6ebb77ce-b641-401c-bfec-cb5303bd4d0c...\n",
      "Waiting for task 6ebb77ce-b641-401c-bfec-cb5303bd4d0c...\n",
      "Task 6ebb77ce-b641-401c-bfec-cb5303bd4d0c finished successfully\n"
     ]
    }
   ],
   "source": [
    "route = f\"{yba_url}/api/v1/customers/{customer_uuid}/xcluster_configs/{xcluster_config_uuid}\"\n",
    "payload = {\n",
    "    \"tables\": all_ysql_tables_uuid_list,\n",
    "    \"bootstrapParams\": {\n",
    "        \"allowBootstrap\": True,\n",
    "        \"backupRequestParams\": {\"storageConfigUUID\": storage_config_uuid},\n",
    "    },\n",
    "}\n",
    "response = requests.post(url=route, json=payload, headers=headers).json()\n",
    "pprint(response)\n",
    "if \"taskUUID\" not in response:\n",
    "    print(f\"Failed to create the task: {response}\")\n",
    "    exit(-1)\n",
    "\n",
    "waitForTask(response[\"taskUUID\"])"
   ]
  },
  {
   "cell_type": "markdown",
   "id": "7a87161a36b20b9b",
   "metadata": {
    "collapsed": false
   },
   "source": [
    "## Pausing/Resuming XCluster Configs\n",
    "You can pause the replication for some time and then resume it. Please note that if the replication is paused for an extended period of time, a replication restart is required."
   ]
  },
  {
   "cell_type": "code",
   "execution_count": 12,
   "id": "7dd081b700e0dbe0",
   "metadata": {
    "ExecuteTime": {
     "end_time": "2023-11-28T17:40:53.912217186Z",
     "start_time": "2023-11-28T17:40:13.357413907Z"
    },
    "collapsed": false
   },
   "outputs": [
    {
     "name": "stdout",
     "output_type": "stream",
     "text": [
      "{'resourceUUID': '8107542f-d17a-43bb-bd38-3ed0603d921e',\n",
      " 'taskUUID': 'fb2df865-ab72-40e1-8b08-5b5fa36f1fef'}\n",
      "Waiting for task fb2df865-ab72-40e1-8b08-5b5fa36f1fef...\n",
      "Task fb2df865-ab72-40e1-8b08-5b5fa36f1fef finished successfully\n",
      "{'resourceUUID': '8107542f-d17a-43bb-bd38-3ed0603d921e',\n",
      " 'taskUUID': '4edf297f-80e1-4eeb-b58c-bad4e834af81'}\n",
      "Waiting for task 4edf297f-80e1-4eeb-b58c-bad4e834af81...\n",
      "Task 4edf297f-80e1-4eeb-b58c-bad4e834af81 finished successfully\n"
     ]
    }
   ],
   "source": [
    "# Pause the replication.\n",
    "route = f\"{yba_url}/api/v1/customers/{customer_uuid}/xcluster_configs/{xcluster_config_uuid}\"\n",
    "payload = {\"status\": \"Paused\"}\n",
    "response = requests.put(url=route, json=payload, headers=headers).json()\n",
    "pprint(response)\n",
    "if \"taskUUID\" not in response:\n",
    "    print(f\"Failed to create the task: {response}\")\n",
    "    exit(-1)\n",
    "\n",
    "waitForTask(response[\"taskUUID\"])\n",
    "\n",
    "# Resume the replication.\n",
    "route = f\"{yba_url}/api/v1/customers/{customer_uuid}/xcluster_configs/{xcluster_config_uuid}\"\n",
    "payload = {\"status\": \"Running\"}\n",
    "response = requests.put(url=route, json=payload, headers=headers).json()\n",
    "pprint(response)\n",
    "if \"taskUUID\" not in response:\n",
    "    print(f\"Failed to create the task: {response}\")\n",
    "    exit(-1)\n",
    "\n",
    "waitForTask(response[\"taskUUID\"])"
   ]
  },
  {
   "cell_type": "markdown",
   "id": "d10a9e3b9cd61f75",
   "metadata": {
    "collapsed": false
   },
   "source": [
    "## Deleting XCluster Configs\n",
    "You can delete the xCluster config so there is no replication relation between the two universes. Please note that `isForceDelete` is useful when one of the universes is not available or there is an issue with the config. In those cases, you pass `True` and it will ignore errors and delete the config."
   ]
  },
  {
   "cell_type": "code",
   "execution_count": 13,
   "id": "8a731fca0e0df322",
   "metadata": {
    "ExecuteTime": {
     "end_time": "2023-11-28T17:41:17.231999967Z",
     "start_time": "2023-11-28T17:40:56.995660160Z"
    },
    "collapsed": false
   },
   "outputs": [
    {
     "name": "stdout",
     "output_type": "stream",
     "text": [
      "{'resourceUUID': '8107542f-d17a-43bb-bd38-3ed0603d921e',\n",
      " 'taskUUID': 'a91d307d-1973-4247-885c-2966b121c764'}\n",
      "Waiting for task a91d307d-1973-4247-885c-2966b121c764...\n",
      "Task a91d307d-1973-4247-885c-2966b121c764 finished successfully\n"
     ]
    }
   ],
   "source": [
    "route = (f\"{yba_url}/api/v1/customers/{customer_uuid}/xcluster_configs/{xcluster_config_uuid}\"\n",
    "         f\"?isForceDelete={str(True).lower()}\")\n",
    "response = requests.delete(url=route, headers=headers).json()\n",
    "pprint(response)\n",
    "if \"taskUUID\" not in response:\n",
    "    print(f\"Failed to create the task: {response}\")\n",
    "    exit(-1)\n",
    "\n",
    "waitForTask(response[\"taskUUID\"])"
   ]
  }
 ],
 "metadata": {
  "kernelspec": {
   "display_name": "Python 3",
   "language": "python",
   "name": "python3"
  },
  "language_info": {
   "codemirror_mode": {
    "name": "ipython",
    "version": 3
   },
   "file_extension": ".py",
   "mimetype": "text/x-python",
   "name": "python",
   "nbconvert_exporter": "python",
   "pygments_lexer": "ipython3",
   "version": "3.8.17"
  }
 },
 "nbformat": 4,
 "nbformat_minor": 5
}
